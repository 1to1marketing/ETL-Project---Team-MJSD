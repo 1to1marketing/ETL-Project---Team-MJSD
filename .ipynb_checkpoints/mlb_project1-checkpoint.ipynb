{
 "cells": [
  {
   "cell_type": "code",
   "execution_count": null,
   "metadata": {},
   "outputs": [],
   "source": [
    "import pandas as pd\n",
    "from sqlalchemy import create_engine"
   ]
  },
  {
   "cell_type": "markdown",
   "metadata": {},
   "source": [
    "# Extract CSVs into DataFrames"
   ]
  },
  {
   "cell_type": "code",
   "execution_count": null,
   "metadata": {},
   "outputs": [],
   "source": [
    "mlb_file = \"Resources/baseballdata.csv\"\n",
    "mlb_df = pd.read_csv(mlb_file)\n",
    "mlb_df.head()"
   ]
  },
  {
   "cell_type": "markdown",
   "metadata": {},
   "source": [
    "# Extract baseball CSV  DataFrame"
   ]
  },
  {
   "cell_type": "code",
   "execution_count": null,
   "metadata": {
    "scrolled": true
   },
   "outputs": [],
   "source": [
    "# Create a filtered dataframe from specific columns\n",
    "mlb_transformed= mlb_df[[\"Tm\", \"Year\", \"Attendance\"]].copy()\n",
    "\n",
    "# Rename the column headers\n",
    "mlb_transformed = mlb_transformed.rename(columns={\"Tm\": \"team_name\",\n",
    "                                                          \"Year\": \"year\",\n",
    "                                                          \"Attendance\": \"attendance\"})\n",
    "\n",
    "# Clean the data by dropping duplicates and setting the index\n",
    "#mlb_transformed.drop_duplicates(\"team_name\", inplace=True)\n",
    "#mlb_transformed.set_index(\"team_name\", inplace=True)\n",
    "\n",
    "mlb_transformed.head(1000)"
   ]
  },
  {
   "cell_type": "code",
   "execution_count": null,
   "metadata": {
    "scrolled": true
   },
   "outputs": [],
   "source": [
    "mlb_2016_file = \"Resources/mlb2016.csv\"\n",
    "mlb_2016_df = pd.read_csv(mlb_2016_file)\n",
    "mlb_2016_df.head()"
   ]
  },
  {
   "cell_type": "code",
   "execution_count": null,
   "metadata": {},
   "outputs": [],
   "source": [
    "mlb_2017_file = \"Resources/mlb2017.csv\"\n",
    "mlb_2017_df = pd.read_csv(mlb_2017_file)\n",
    "mlb_2017_df.head()"
   ]
  },
  {
   "cell_type": "code",
   "execution_count": null,
   "metadata": {},
   "outputs": [],
   "source": [
    "frames = [mlb_2017_df, mlb_2016_df] \n",
    "\n",
    "mlb_ap_tables = pd.concat(frames)\n",
    "mlb_ap_tables"
   ]
  },
  {
   "cell_type": "markdown",
   "metadata": {},
   "source": [
    "# Tansform mlb API "
   ]
  },
  {
   "cell_type": "code",
   "execution_count": null,
   "metadata": {
    "scrolled": true
   },
   "outputs": [],
   "source": [
    "# Create a filtered dataframe from specific columns\n",
    "mlb_api_transformed= mlb_ap_tables[[\"name_display_long\", \"year\", \"venue_name\", \"city\"]].copy()\n",
    "\n",
    "# Rename the column headers\n",
    "mlb_api_transformed = mlb_transformed.rename(columns={\"name_display_long\": \"team_name\",\n",
    "                                                            \"year\": \"year\",\n",
    "                                                            \"city\": \"city\",\n",
    "                                                            \"venue_name\": \"venue\"})\n",
    "\n",
    "# Clean the data by dropping duplicates and setting the index\n",
    "#mlb_transformed.drop_duplicates(\"team_name\", inplace=True)\n",
    "#mlb_transformed.set_index(\"team_name\", inplace=True)\n",
    "\n",
    "mlb_api_transformed.head(1000)"
   ]
  },
  {
   "cell_type": "code",
   "execution_count": null,
   "metadata": {},
   "outputs": [],
   "source": [
    "connection_string = \"postgres:postgres@localhost:51968/baseball_db\"\n",
    "engine = create_engine(f'postgresql://{connection_string}')"
   ]
  },
  {
   "cell_type": "code",
   "execution_count": null,
   "metadata": {},
   "outputs": [],
   "source": [
    "engine.table_names()"
   ]
  },
  {
   "cell_type": "code",
   "execution_count": null,
   "metadata": {},
   "outputs": [],
   "source": [
    "mlb_transformed.to_sql(name='kaggle_csv', con=engine, if_exists='append', index=True)"
   ]
  },
  {
   "cell_type": "code",
   "execution_count": null,
   "metadata": {},
   "outputs": [],
   "source": [
    "mlb_api_transformed.to_sql(name='mlb_api', con=engine, if_exists='append', index=True)"
   ]
  },
  {
   "cell_type": "code",
   "execution_count": null,
   "metadata": {},
   "outputs": [],
   "source": []
  }
 ],
 "metadata": {
  "kernelspec": {
   "display_name": "Python 3",
   "language": "python",
   "name": "python3"
  },
  "language_info": {
   "codemirror_mode": {
    "name": "ipython",
    "version": 3
   },
   "file_extension": ".py",
   "mimetype": "text/x-python",
   "name": "python",
   "nbconvert_exporter": "python",
   "pygments_lexer": "ipython3",
   "version": "3.7.4"
  }
 },
 "nbformat": 4,
 "nbformat_minor": 2
}
